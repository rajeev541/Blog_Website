{
  "nbformat": 4,
  "nbformat_minor": 0,
  "metadata": {
    "colab": {
      "provenance": [],
      "authorship_tag": "ABX9TyOZxakW8DzBSPvX8R37KKhQ",
      "include_colab_link": true
    },
    "kernelspec": {
      "name": "python3",
      "display_name": "Python 3"
    },
    "language_info": {
      "name": "python"
    }
  },
  "cells": [
    {
      "cell_type": "markdown",
      "metadata": {
        "id": "view-in-github",
        "colab_type": "text"
      },
      "source": [
        "<a href=\"https://colab.research.google.com/github/rajeev541/Blog_Website/blob/main/ML23.ipynb\" target=\"_parent\"><img src=\"https://colab.research.google.com/assets/colab-badge.svg\" alt=\"Open In Colab\"/></a>"
      ]
    },
    {
      "cell_type": "markdown",
      "source": [
        "create a Pandas series and convert it into a dataframe."
      ],
      "metadata": {
        "id": "xalkijfUwQfA"
      }
    },
    {
      "cell_type": "code",
      "source": [
        "import pandas as pd"
      ],
      "metadata": {
        "id": "ajUYfZKbwTc3"
      },
      "execution_count": 1,
      "outputs": []
    },
    {
      "cell_type": "code",
      "source": [
        "import numpy as np"
      ],
      "metadata": {
        "id": "ufMBrFgWwTek"
      },
      "execution_count": null,
      "outputs": []
    },
    {
      "cell_type": "code",
      "source": [
        "item = ['Computer', 'Printer', 'Tablet', 'Desk', 'Chair']"
      ],
      "metadata": {
        "id": "XuBn51KSwThw"
      },
      "execution_count": null,
      "outputs": []
    },
    {
      "cell_type": "code",
      "source": [
        "my_series1 = pd.Series(item)"
      ],
      "metadata": {
        "id": "COAnhvY5wTko"
      },
      "execution_count": null,
      "outputs": []
    },
    {
      "cell_type": "code",
      "source": [
        "print(my_series1)"
      ],
      "metadata": {
        "id": "NTV7cTkNwTrT",
        "colab": {
          "base_uri": "https://localhost:8080/"
        },
        "outputId": "c8787b43-c9bd-4bbb-887f-6c648843a6cb"
      },
      "execution_count": null,
      "outputs": [
        {
          "output_type": "stream",
          "name": "stdout",
          "text": [
            "0    Computer\n",
            "1     Printer\n",
            "2      Tablet\n",
            "3        Desk\n",
            "4       Chair\n",
            "dtype: object\n"
          ]
        }
      ]
    },
    {
      "cell_type": "code",
      "source": [
        "df1 = my_series1.to_frame()"
      ],
      "metadata": {
        "id": "yiSNxZsxwTss"
      },
      "execution_count": null,
      "outputs": []
    },
    {
      "cell_type": "code",
      "source": [
        "print(df1)"
      ],
      "metadata": {
        "id": "JmBKdhC0wTv_",
        "colab": {
          "base_uri": "https://localhost:8080/"
        },
        "outputId": "ce57a84e-bee0-4b41-ba59-682290e412ed"
      },
      "execution_count": null,
      "outputs": [
        {
          "output_type": "stream",
          "name": "stdout",
          "text": [
            "          0\n",
            "0  Computer\n",
            "1   Printer\n",
            "2    Tablet\n",
            "3      Desk\n",
            "4     Chair\n"
          ]
        }
      ]
    },
    {
      "cell_type": "code",
      "source": [
        "print(type(df1))"
      ],
      "metadata": {
        "id": "JroO2qnfwTx-",
        "colab": {
          "base_uri": "https://localhost:8080/"
        },
        "outputId": "f08459b5-6bf5-4224-a5c2-6e7536025487"
      },
      "execution_count": null,
      "outputs": [
        {
          "output_type": "stream",
          "name": "stdout",
          "text": [
            "<class 'pandas.core.frame.DataFrame'>\n"
          ]
        }
      ]
    },
    {
      "cell_type": "code",
      "source": [
        "my_series2 = pd.Series(item)"
      ],
      "metadata": {
        "id": "FRcaYz2MwT1t"
      },
      "execution_count": null,
      "outputs": []
    },
    {
      "cell_type": "code",
      "source": [
        "print(my_series2)"
      ],
      "metadata": {
        "id": "LkAbTi8vwT4a",
        "colab": {
          "base_uri": "https://localhost:8080/"
        },
        "outputId": "c5f248f5-d6ca-4b1c-8856-b6689dd6892a"
      },
      "execution_count": null,
      "outputs": [
        {
          "output_type": "stream",
          "name": "stdout",
          "text": [
            "0    Computer\n",
            "1     Printer\n",
            "2      Tablet\n",
            "3        Desk\n",
            "4       Chair\n",
            "dtype: object\n"
          ]
        }
      ]
    },
    {
      "cell_type": "code",
      "source": [
        "df2 = pd.DataFrame(my_series2)"
      ],
      "metadata": {
        "id": "6Pt68DY1wT9B"
      },
      "execution_count": null,
      "outputs": []
    },
    {
      "cell_type": "code",
      "source": [
        "print(df2)"
      ],
      "metadata": {
        "id": "KmcSkW0_wT__",
        "colab": {
          "base_uri": "https://localhost:8080/"
        },
        "outputId": "ac1b1a6d-f915-4820-f2b7-f119c82278bc"
      },
      "execution_count": null,
      "outputs": [
        {
          "output_type": "stream",
          "name": "stdout",
          "text": [
            "          0\n",
            "0  Computer\n",
            "1   Printer\n",
            "2    Tablet\n",
            "3      Desk\n",
            "4     Chair\n"
          ]
        }
      ]
    },
    {
      "cell_type": "code",
      "source": [
        "print(type(df2))"
      ],
      "metadata": {
        "colab": {
          "base_uri": "https://localhost:8080/"
        },
        "id": "VOHE87aTxpvu",
        "outputId": "0d6015fa-6ccb-4e9c-e802-99e8fa0cf419"
      },
      "execution_count": null,
      "outputs": [
        {
          "output_type": "stream",
          "name": "stdout",
          "text": [
            "<class 'pandas.core.frame.DataFrame'>\n"
          ]
        }
      ]
    }
  ]
}